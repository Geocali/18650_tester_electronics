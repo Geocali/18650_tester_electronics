{
 "cells": [
  {
   "cell_type": "code",
   "execution_count": 2,
   "metadata": {},
   "outputs": [],
   "source": [
    "%matplotlib inline"
   ]
  },
  {
   "cell_type": "code",
   "execution_count": 3,
   "metadata": {},
   "outputs": [],
   "source": [
    "import numpy as np\n",
    "import matplotlib.pyplot as plt\n",
    "\n",
    "\n",
    "import PySpice.Logging.Logging as Logging\n",
    "logger = Logging.setup_logging()\n",
    "\n",
    "\n",
    "from PySpice.Doc.ExampleTools import find_libraries\n",
    "from PySpice.Probe.Plot import plot\n",
    "from PySpice.Spice.Library import SpiceLibrary\n",
    "from PySpice.Spice.Netlist import Circuit\n",
    "from PySpice.Unit import *"
   ]
  },
  {
   "cell_type": "code",
   "execution_count": 32,
   "metadata": {},
   "outputs": [
    {
     "name": "stdout",
     "output_type": "stream",
     "text": [
      ".title 18650 tester\n",
      ".include /home/libraries/2N2222A.lib\n",
      "Vbase1 n1 0 1V\n",
      "Rbase1 n1 n4 10Ohm\n",
      "Qb1 n2 n4 0 2n2222a\n",
      "Rdissipator n2 n3 4Ohm\n",
      "Vcapa1 n3 0 5V\n",
      "\n"
     ]
    }
   ],
   "source": [
    "spice_library = SpiceLibrary(\"libraries\")\n",
    "circuit = Circuit('18650 tester')\n",
    "circuit.include(spice_library['2n2222a'])\n",
    "\n",
    "Vbase1 = circuit.V('base1', 'n1', circuit.gnd, 1@u_V)\n",
    "circuit.R('base1', 'n1', 'n4', 10@u_Ω)\n",
    "circuit.BJT('b1', 'n2', 'n4', circuit.gnd, model='2n2222a')\n",
    "circuit.R('dissipator', 'n2', 'n3', 4@u_Ω)\n",
    "circuit.V('capa1', 'n3', circuit.gnd, 5@u_V)\n",
    "print(circuit)"
   ]
  },
  {
   "cell_type": "code",
   "execution_count": 33,
   "metadata": {},
   "outputs": [],
   "source": [
    "simulator = circuit.simulator(temperature=25, nominal_temperature=25)\n",
    "period = 2\n",
    "analysis = simulator.dc(Vbase1=slice(0, 5, .01))"
   ]
  },
  {
   "cell_type": "code",
   "execution_count": 34,
   "metadata": {},
   "outputs": [
    {
     "data": {
      "text/plain": [
       "[<matplotlib.lines.Line2D at 0x7f0349f7b240>]"
      ]
     },
     "execution_count": 34,
     "metadata": {},
     "output_type": "execute_result"
    },
    {
     "data": {
      "image/png": "[encoded data removed]",
      "text/plain": [
       "<Figure size 1440x720 with 1 Axes>"
      ]
     },
     "metadata": {
      "needs_background": "light"
     },
     "output_type": "display_data"
    }
   ],
   "source": [
    "figure = plt.figure(1, (20, 10))\n",
    "axe1 = plt.subplot(221)\n",
    "axe1.plot(analysis.n1, analysis.n2)"
   ]
  },
  {
   "cell_type": "code",
   "execution_count": 35,
   "metadata": {},
   "outputs": [],
   "source": [
    "#dir(circuit)"
   ]
  },
  {
   "cell_type": "code",
   "execution_count": 36,
   "metadata": {},
   "outputs": [
    {
     "name": "stdout",
     "output_type": "stream",
     "text": [
      ".title 18650 tester\n",
      ".include /home/libraries/2N2222A.lib\n",
      "Vbase1 n1 0 1V\n",
      "Rbase1 n1 n4 10Ohm\n",
      "Qb1 n2 n4 0 2n2222a\n",
      "Rdissipator n2 n3 4Ohm\n",
      "Vcapa1 n3 0 5V\n",
      "\n"
     ]
    }
   ],
   "source": [
    "print(circuit)"
   ]
  },
  {
   "cell_type": "code",
   "execution_count": 37,
   "metadata": {},
   "outputs": [],
   "source": [
    "import lcapy"
   ]
  },
  {
   "cell_type": "code",
   "execution_count": 76,
   "metadata": {},
   "outputs": [],
   "source": [
    "str_circuit = \"\"\"\n",
    "Vbase1 n1 0_n1 1; down\n",
    "Rbase1 n1 n4 10; right\n",
    "Qb1 n2 n4 0; down\n",
    "Rdissipator n2 n3 4; up\n",
    "Vcapa1 n3 0_n3 5; down\n",
    "W 0 0_n3; right\n",
    "W 0 0_n1; left\n",
    "\"\"\"\n",
    "cct = lcapy.Circuit(str_circuit)\n"
   ]
  },
  {
   "cell_type": "code",
   "execution_count": 79,
   "metadata": {},
   "outputs": [],
   "source": [
    "cct.draw('test-circuit.png')"
   ]
  },
  {
   "cell_type": "code",
   "execution_count": 83,
   "metadata": {},
   "outputs": [],
   "source": [
    "netlist = \"\"\"\n",
    "V1 1 0 step; down\n",
    "R1 1 2; left=2, i=I_1, v=V_{R_1}\n",
    "R2 1 3; right=2, i=I_2, v=V_{R_2}\n",
    "L1 2 0_1; down=2, i=I_1, v=V_{L_1}\n",
    "L2 3 0_3; down=2, i=I_2, v=V_{L_2}\n",
    "W 0 0_3; right\n",
    "W 0 0_1; left\n",
    "\"\"\"\n",
    "cct = lcapy.Circuit(netlist)\n",
    "cct.draw('circuit.pdf')"
   ]
  },
  {
   "cell_type": "code",
   "execution_count": null,
   "metadata": {},
   "outputs": [],
   "source": []
  }
 ],
 "metadata": {
  "kernelspec": {
   "display_name": "Python 3",
   "language": "python",
   "name": "python3"
  },
  "language_info": {
   "codemirror_mode": {
    "name": "ipython",
    "version": 3
   },
   "file_extension": ".py",
   "mimetype": "text/x-python",
   "name": "python",
   "nbconvert_exporter": "python",
   "pygments_lexer": "ipython3",
   "version": "3.6.9"
  }
 },
 "nbformat": 4,
 "nbformat_minor": 4
}
